{
  "metadata": {
    "kernelspec": {
      "name": "python",
      "display_name": "Python (Pyodide)",
      "language": "python"
    },
    "language_info": {
      "codemirror_mode": {
        "name": "python",
        "version": 3
      },
      "file_extension": ".py",
      "mimetype": "text/x-python",
      "name": "python",
      "nbconvert_exporter": "python",
      "pygments_lexer": "ipython3",
      "version": "3.8"
    }
  },
  "nbformat_minor": 4,
  "nbformat": 4,
  "cells": [
    {
      "cell_type": "code",
      "source": "# problem statement\n#The Tour & Travels Customer Churn Prediction dataset assists a travel company in predicting customer churn. It includes indicators such as age, frequent flyer status, annual income class, services opted frequency, social media account synchronization, and hotel bookings.\n#The goal is to build predictive models to save company resources. The dataset, used for practice and in a hackathon, is freely available. Analysts can perform exploratory data analyses to reveal insights for effective churn prediction. The binary target variable distinguishes customers who churn (1) from those who don't (0), guiding the modeling process.",
      "metadata": {
        "trusted": true
      },
      "outputs": [],
      "execution_count": null
    },
    {
      "cell_type": "code",
      "source": "# Suppressing Warnings\nimport warnings\nwarnings.filterwarnings('ignore')",
      "metadata": {
        "trusted": true
      },
      "outputs": [],
      "execution_count": 1
    },
    {
      "cell_type": "code",
      "source": "# Importing all the necessary libraries\n\nimport numpy as np \nimport pandas as pd \nimport matplotlib.pyplot as plt\n\n%matplotlib inline\n\n\n# Library for modelling\nimport statsmodels.api as sm\n\n# Library for train test split\nfrom sklearn.model_selection import train_test_split\n\n# Library for Logistic Regression\nfrom sklearn.linear_model import LogisticRegression\nfrom sklearn import metrics\nfrom sklearn.feature_selection import RFE\n\n# Library for scaling\nfrom sklearn.preprocessing import MinMaxScaler\nfrom sklearn.preprocessing import StandardScaler\n\n# Library for Variance Inflation Factor\nfrom statsmodels.stats.outliers_influence import variance_inflation_factor\n\n\n#Library for analyzing the model\nfrom sklearn.metrics import roc_auc_score\nfrom sklearn.metrics import roc_curve\nfrom sklearn.metrics import classification_report\nfrom sklearn.metrics import confusion_matrix\nfrom sklearn.metrics import precision_recall_curve",
      "metadata": {
        "trusted": true
      },
      "outputs": [],
      "execution_count": 9
    },
    {
      "cell_type": "code",
      "source": "#Reading the dataset\n\ndf = pd.read_csv('Customertravel.csv')\n\n#Checking the first 5 rows of the data set\ndf.head()",
      "metadata": {
        "trusted": true
      },
      "outputs": [
        {
          "execution_count": 10,
          "output_type": "execute_result",
          "data": {
            "text/plain": "   Age FrequentFlyer AnnualIncomeClass  ServicesOpted  \\\n0   34            No     Middle Income              6   \n1   34           Yes        Low Income              5   \n2   37            No     Middle Income              3   \n3   30            No     Middle Income              2   \n4   30            No        Low Income              1   \n\n  AccountSyncedToSocialMedia BookedHotelOrNot  Target  \n0                         No              Yes       0  \n1                        Yes               No       1  \n2                        Yes               No       0  \n3                         No               No       0  \n4                         No               No       0  ",
            "text/html": "<div>\n<style scoped>\n    .dataframe tbody tr th:only-of-type {\n        vertical-align: middle;\n    }\n\n    .dataframe tbody tr th {\n        vertical-align: top;\n    }\n\n    .dataframe thead th {\n        text-align: right;\n    }\n</style>\n<table border=\"1\" class=\"dataframe\">\n  <thead>\n    <tr style=\"text-align: right;\">\n      <th></th>\n      <th>Age</th>\n      <th>FrequentFlyer</th>\n      <th>AnnualIncomeClass</th>\n      <th>ServicesOpted</th>\n      <th>AccountSyncedToSocialMedia</th>\n      <th>BookedHotelOrNot</th>\n      <th>Target</th>\n    </tr>\n  </thead>\n  <tbody>\n    <tr>\n      <th>0</th>\n      <td>34</td>\n      <td>No</td>\n      <td>Middle Income</td>\n      <td>6</td>\n      <td>No</td>\n      <td>Yes</td>\n      <td>0</td>\n    </tr>\n    <tr>\n      <th>1</th>\n      <td>34</td>\n      <td>Yes</td>\n      <td>Low Income</td>\n      <td>5</td>\n      <td>Yes</td>\n      <td>No</td>\n      <td>1</td>\n    </tr>\n    <tr>\n      <th>2</th>\n      <td>37</td>\n      <td>No</td>\n      <td>Middle Income</td>\n      <td>3</td>\n      <td>Yes</td>\n      <td>No</td>\n      <td>0</td>\n    </tr>\n    <tr>\n      <th>3</th>\n      <td>30</td>\n      <td>No</td>\n      <td>Middle Income</td>\n      <td>2</td>\n      <td>No</td>\n      <td>No</td>\n      <td>0</td>\n    </tr>\n    <tr>\n      <th>4</th>\n      <td>30</td>\n      <td>No</td>\n      <td>Low Income</td>\n      <td>1</td>\n      <td>No</td>\n      <td>No</td>\n      <td>0</td>\n    </tr>\n  </tbody>\n</table>\n</div>"
          },
          "metadata": {}
        }
      ],
      "execution_count": 10
    },
    {
      "cell_type": "code",
      "source": "#Determining the shape of the datset\ndf.shape",
      "metadata": {
        "trusted": true
      },
      "outputs": [
        {
          "execution_count": 11,
          "output_type": "execute_result",
          "data": {
            "text/plain": "(954, 7)"
          },
          "metadata": {}
        }
      ],
      "execution_count": 11
    },
    {
      "cell_type": "code",
      "source": "#Inspecting the dataset\n\ndf.info()",
      "metadata": {
        "trusted": true
      },
      "outputs": [
        {
          "name": "stdout",
          "text": "<class 'pandas.core.frame.DataFrame'>\nRangeIndex: 954 entries, 0 to 953\nData columns (total 7 columns):\n #   Column                      Non-Null Count  Dtype \n---  ------                      --------------  ----- \n 0   Age                         954 non-null    int64 \n 1   FrequentFlyer               954 non-null    object\n 2   AnnualIncomeClass           954 non-null    object\n 3   ServicesOpted               954 non-null    int64 \n 4   AccountSyncedToSocialMedia  954 non-null    object\n 5   BookedHotelOrNot            954 non-null    object\n 6   Target                      954 non-null    int64 \ndtypes: int64(3), object(4)\nmemory usage: 37.3+ KB\n",
          "output_type": "stream"
        }
      ],
      "execution_count": 12
    },
    {
      "cell_type": "code",
      "source": "#Checking for count of missing values in each column\ndf.isnull().sum()",
      "metadata": {
        "trusted": true
      },
      "outputs": [
        {
          "execution_count": 13,
          "output_type": "execute_result",
          "data": {
            "text/plain": "Age                           0\nFrequentFlyer                 0\nAnnualIncomeClass             0\nServicesOpted                 0\nAccountSyncedToSocialMedia    0\nBookedHotelOrNot              0\nTarget                        0\ndtype: int64"
          },
          "metadata": {}
        }
      ],
      "execution_count": 13
    },
    {
      "cell_type": "code",
      "source": "#EDA",
      "metadata": {
        "trusted": true
      },
      "outputs": [],
      "execution_count": 19
    },
    {
      "cell_type": "code",
      "source": "#'Target' column:",
      "metadata": {
        "trusted": true
      },
      "outputs": [],
      "execution_count": 20
    },
    {
      "cell_type": "code",
      "source": "#checking the value count in the column\n\nround(df.Target.value_counts(normalize = True)*100,2)",
      "metadata": {
        "trusted": true
      },
      "outputs": [
        {
          "execution_count": 21,
          "output_type": "execute_result",
          "data": {
            "text/plain": "0    76.52\n1    23.48\nName: Target, dtype: float64"
          },
          "metadata": {}
        }
      ],
      "execution_count": 21
    },
    {
      "cell_type": "code",
      "source": "#'FrequentFlyer' column:",
      "metadata": {
        "trusted": true
      },
      "outputs": [],
      "execution_count": 22
    },
    {
      "cell_type": "code",
      "source": "\n#checking the value count in the column\n\ndf.FrequentFlyer.value_counts()",
      "metadata": {
        "trusted": true
      },
      "outputs": [
        {
          "execution_count": 23,
          "output_type": "execute_result",
          "data": {
            "text/plain": "No           608\nYes          286\nNo Record     60\nName: FrequentFlyer, dtype: int64"
          },
          "metadata": {}
        }
      ],
      "execution_count": 23
    },
    {
      "cell_type": "code",
      "source": "df.FrequentFlyer = df.FrequentFlyer.replace('No Record','No')",
      "metadata": {
        "trusted": true
      },
      "outputs": [],
      "execution_count": 24
    },
    {
      "cell_type": "code",
      "source": "#Checking the value counts\ndf.FrequentFlyer.value_counts()",
      "metadata": {
        "trusted": true
      },
      "outputs": [
        {
          "execution_count": 25,
          "output_type": "execute_result",
          "data": {
            "text/plain": "No     668\nYes    286\nName: FrequentFlyer, dtype: int64"
          },
          "metadata": {}
        }
      ],
      "execution_count": 25
    },
    {
      "cell_type": "code",
      "source": "#'AnnualIncomeClass' column:",
      "metadata": {
        "trusted": true
      },
      "outputs": [],
      "execution_count": 26
    },
    {
      "cell_type": "code",
      "source": "#checking the value count in the column\n\ndf.AnnualIncomeClass.value_counts()",
      "metadata": {
        "trusted": true
      },
      "outputs": [
        {
          "execution_count": 27,
          "output_type": "execute_result",
          "data": {
            "text/plain": "Middle Income    409\nLow Income       386\nHigh Income      159\nName: AnnualIncomeClass, dtype: int64"
          },
          "metadata": {}
        }
      ],
      "execution_count": 27
    },
    {
      "cell_type": "code",
      "source": "#'ServicesOpted' column:",
      "metadata": {
        "trusted": true
      },
      "outputs": [],
      "execution_count": 28
    },
    {
      "cell_type": "code",
      "source": "#checking the value count in the column\n\ndf.ServicesOpted.value_counts()",
      "metadata": {
        "trusted": true
      },
      "outputs": [
        {
          "execution_count": 29,
          "output_type": "execute_result",
          "data": {
            "text/plain": "1    404\n2    176\n3    124\n4    117\n5     69\n6     64\nName: ServicesOpted, dtype: int64"
          },
          "metadata": {}
        }
      ],
      "execution_count": 29
    },
    {
      "cell_type": "code",
      "source": "#'AccountSyncedToSocialMedia' column:",
      "metadata": {
        "trusted": true
      },
      "outputs": [],
      "execution_count": null
    },
    {
      "cell_type": "code",
      "source": "#checking the value count in the column\n\ndf.AccountSyncedToSocialMedia.value_counts()",
      "metadata": {
        "trusted": true
      },
      "outputs": [
        {
          "execution_count": 30,
          "output_type": "execute_result",
          "data": {
            "text/plain": "No     594\nYes    360\nName: AccountSyncedToSocialMedia, dtype: int64"
          },
          "metadata": {}
        }
      ],
      "execution_count": 30
    },
    {
      "cell_type": "code",
      "source": "#'BookedHotelOrNot' column:",
      "metadata": {
        "trusted": true
      },
      "outputs": [],
      "execution_count": null
    },
    {
      "cell_type": "code",
      "source": "#checking the value count in the column\n\ndf.BookedHotelOrNot.value_counts()",
      "metadata": {
        "trusted": true
      },
      "outputs": [
        {
          "execution_count": 31,
          "output_type": "execute_result",
          "data": {
            "text/plain": "No     576\nYes    378\nName: BookedHotelOrNot, dtype: int64"
          },
          "metadata": {}
        }
      ],
      "execution_count": 31
    },
    {
      "cell_type": "code",
      "source": "# Data Preparation Converting binary variables (Yes/No) to 0/1",
      "metadata": {
        "trusted": true
      },
      "outputs": [],
      "execution_count": null
    },
    {
      "cell_type": "code",
      "source": "#creatig a list of variables to be converted\nvar = ['FrequentFlyer','AccountSyncedToSocialMedia','BookedHotelOrNot']\n\ndef binary_map(x):\n    return x.map({'Yes':1,'No':0})\n\ndf[var] = df[var].apply(binary_map)\n\ndf.head()",
      "metadata": {
        "trusted": true
      },
      "outputs": [
        {
          "execution_count": 32,
          "output_type": "execute_result",
          "data": {
            "text/plain": "   Age  FrequentFlyer AnnualIncomeClass  ServicesOpted  \\\n0   34              0     Middle Income              6   \n1   34              1        Low Income              5   \n2   37              0     Middle Income              3   \n3   30              0     Middle Income              2   \n4   30              0        Low Income              1   \n\n   AccountSyncedToSocialMedia  BookedHotelOrNot  Target  \n0                           0                 1       0  \n1                           1                 0       1  \n2                           1                 0       0  \n3                           0                 0       0  \n4                           0                 0       0  ",
            "text/html": "<div>\n<style scoped>\n    .dataframe tbody tr th:only-of-type {\n        vertical-align: middle;\n    }\n\n    .dataframe tbody tr th {\n        vertical-align: top;\n    }\n\n    .dataframe thead th {\n        text-align: right;\n    }\n</style>\n<table border=\"1\" class=\"dataframe\">\n  <thead>\n    <tr style=\"text-align: right;\">\n      <th></th>\n      <th>Age</th>\n      <th>FrequentFlyer</th>\n      <th>AnnualIncomeClass</th>\n      <th>ServicesOpted</th>\n      <th>AccountSyncedToSocialMedia</th>\n      <th>BookedHotelOrNot</th>\n      <th>Target</th>\n    </tr>\n  </thead>\n  <tbody>\n    <tr>\n      <th>0</th>\n      <td>34</td>\n      <td>0</td>\n      <td>Middle Income</td>\n      <td>6</td>\n      <td>0</td>\n      <td>1</td>\n      <td>0</td>\n    </tr>\n    <tr>\n      <th>1</th>\n      <td>34</td>\n      <td>1</td>\n      <td>Low Income</td>\n      <td>5</td>\n      <td>1</td>\n      <td>0</td>\n      <td>1</td>\n    </tr>\n    <tr>\n      <th>2</th>\n      <td>37</td>\n      <td>0</td>\n      <td>Middle Income</td>\n      <td>3</td>\n      <td>1</td>\n      <td>0</td>\n      <td>0</td>\n    </tr>\n    <tr>\n      <th>3</th>\n      <td>30</td>\n      <td>0</td>\n      <td>Middle Income</td>\n      <td>2</td>\n      <td>0</td>\n      <td>0</td>\n      <td>0</td>\n    </tr>\n    <tr>\n      <th>4</th>\n      <td>30</td>\n      <td>0</td>\n      <td>Low Income</td>\n      <td>1</td>\n      <td>0</td>\n      <td>0</td>\n      <td>0</td>\n    </tr>\n  </tbody>\n</table>\n</div>"
          },
          "metadata": {}
        }
      ],
      "execution_count": 32
    },
    {
      "cell_type": "code",
      "source": "#For categorical variables with multiple levels, we will create dummy variables:",
      "metadata": {
        "trusted": true
      },
      "outputs": [],
      "execution_count": null
    },
    {
      "cell_type": "code",
      "source": "# Creating a dummy variable for some of the categorical variables and dropping the first one.\ndummy1 = pd.get_dummies(df[['AnnualIncomeClass']], drop_first=True)\n\n# Adding the results to the master dataframe\ndf = pd.concat([df, dummy1], axis=1)",
      "metadata": {
        "trusted": true
      },
      "outputs": [],
      "execution_count": 33
    },
    {
      "cell_type": "code",
      "source": "df.head()",
      "metadata": {
        "trusted": true
      },
      "outputs": [
        {
          "execution_count": 34,
          "output_type": "execute_result",
          "data": {
            "text/plain": "   Age  FrequentFlyer AnnualIncomeClass  ServicesOpted  \\\n0   34              0     Middle Income              6   \n1   34              1        Low Income              5   \n2   37              0     Middle Income              3   \n3   30              0     Middle Income              2   \n4   30              0        Low Income              1   \n\n   AccountSyncedToSocialMedia  BookedHotelOrNot  Target  \\\n0                           0                 1       0   \n1                           1                 0       1   \n2                           1                 0       0   \n3                           0                 0       0   \n4                           0                 0       0   \n\n   AnnualIncomeClass_Low Income  AnnualIncomeClass_Middle Income  \n0                             0                                1  \n1                             1                                0  \n2                             0                                1  \n3                             0                                1  \n4                             1                                0  ",
            "text/html": "<div>\n<style scoped>\n    .dataframe tbody tr th:only-of-type {\n        vertical-align: middle;\n    }\n\n    .dataframe tbody tr th {\n        vertical-align: top;\n    }\n\n    .dataframe thead th {\n        text-align: right;\n    }\n</style>\n<table border=\"1\" class=\"dataframe\">\n  <thead>\n    <tr style=\"text-align: right;\">\n      <th></th>\n      <th>Age</th>\n      <th>FrequentFlyer</th>\n      <th>AnnualIncomeClass</th>\n      <th>ServicesOpted</th>\n      <th>AccountSyncedToSocialMedia</th>\n      <th>BookedHotelOrNot</th>\n      <th>Target</th>\n      <th>AnnualIncomeClass_Low Income</th>\n      <th>AnnualIncomeClass_Middle Income</th>\n    </tr>\n  </thead>\n  <tbody>\n    <tr>\n      <th>0</th>\n      <td>34</td>\n      <td>0</td>\n      <td>Middle Income</td>\n      <td>6</td>\n      <td>0</td>\n      <td>1</td>\n      <td>0</td>\n      <td>0</td>\n      <td>1</td>\n    </tr>\n    <tr>\n      <th>1</th>\n      <td>34</td>\n      <td>1</td>\n      <td>Low Income</td>\n      <td>5</td>\n      <td>1</td>\n      <td>0</td>\n      <td>1</td>\n      <td>1</td>\n      <td>0</td>\n    </tr>\n    <tr>\n      <th>2</th>\n      <td>37</td>\n      <td>0</td>\n      <td>Middle Income</td>\n      <td>3</td>\n      <td>1</td>\n      <td>0</td>\n      <td>0</td>\n      <td>0</td>\n      <td>1</td>\n    </tr>\n    <tr>\n      <th>3</th>\n      <td>30</td>\n      <td>0</td>\n      <td>Middle Income</td>\n      <td>2</td>\n      <td>0</td>\n      <td>0</td>\n      <td>0</td>\n      <td>0</td>\n      <td>1</td>\n    </tr>\n    <tr>\n      <th>4</th>\n      <td>30</td>\n      <td>0</td>\n      <td>Low Income</td>\n      <td>1</td>\n      <td>0</td>\n      <td>0</td>\n      <td>0</td>\n      <td>1</td>\n      <td>0</td>\n    </tr>\n  </tbody>\n</table>\n</div>"
          },
          "metadata": {}
        }
      ],
      "execution_count": 34
    },
    {
      "cell_type": "code",
      "source": "# We shall drop the AAnnualIncomeClass column\n\ndf.drop('AnnualIncomeClass',axis = 1, inplace = True)\ndf.head()",
      "metadata": {
        "trusted": true
      },
      "outputs": [
        {
          "execution_count": 35,
          "output_type": "execute_result",
          "data": {
            "text/plain": "   Age  FrequentFlyer  ServicesOpted  AccountSyncedToSocialMedia  \\\n0   34              0              6                           0   \n1   34              1              5                           1   \n2   37              0              3                           1   \n3   30              0              2                           0   \n4   30              0              1                           0   \n\n   BookedHotelOrNot  Target  AnnualIncomeClass_Low Income  \\\n0                 1       0                             0   \n1                 0       1                             1   \n2                 0       0                             0   \n3                 0       0                             0   \n4                 0       0                             1   \n\n   AnnualIncomeClass_Middle Income  \n0                                1  \n1                                0  \n2                                1  \n3                                1  \n4                                0  ",
            "text/html": "<div>\n<style scoped>\n    .dataframe tbody tr th:only-of-type {\n        vertical-align: middle;\n    }\n\n    .dataframe tbody tr th {\n        vertical-align: top;\n    }\n\n    .dataframe thead th {\n        text-align: right;\n    }\n</style>\n<table border=\"1\" class=\"dataframe\">\n  <thead>\n    <tr style=\"text-align: right;\">\n      <th></th>\n      <th>Age</th>\n      <th>FrequentFlyer</th>\n      <th>ServicesOpted</th>\n      <th>AccountSyncedToSocialMedia</th>\n      <th>BookedHotelOrNot</th>\n      <th>Target</th>\n      <th>AnnualIncomeClass_Low Income</th>\n      <th>AnnualIncomeClass_Middle Income</th>\n    </tr>\n  </thead>\n  <tbody>\n    <tr>\n      <th>0</th>\n      <td>34</td>\n      <td>0</td>\n      <td>6</td>\n      <td>0</td>\n      <td>1</td>\n      <td>0</td>\n      <td>0</td>\n      <td>1</td>\n    </tr>\n    <tr>\n      <th>1</th>\n      <td>34</td>\n      <td>1</td>\n      <td>5</td>\n      <td>1</td>\n      <td>0</td>\n      <td>1</td>\n      <td>1</td>\n      <td>0</td>\n    </tr>\n    <tr>\n      <th>2</th>\n      <td>37</td>\n      <td>0</td>\n      <td>3</td>\n      <td>1</td>\n      <td>0</td>\n      <td>0</td>\n      <td>0</td>\n      <td>1</td>\n    </tr>\n    <tr>\n      <th>3</th>\n      <td>30</td>\n      <td>0</td>\n      <td>2</td>\n      <td>0</td>\n      <td>0</td>\n      <td>0</td>\n      <td>0</td>\n      <td>1</td>\n    </tr>\n    <tr>\n      <th>4</th>\n      <td>30</td>\n      <td>0</td>\n      <td>1</td>\n      <td>0</td>\n      <td>0</td>\n      <td>0</td>\n      <td>1</td>\n      <td>0</td>\n    </tr>\n  </tbody>\n</table>\n</div>"
          },
          "metadata": {}
        }
      ],
      "execution_count": 35
    },
    {
      "cell_type": "code",
      "source": "df.info()",
      "metadata": {
        "trusted": true
      },
      "outputs": [
        {
          "name": "stdout",
          "text": "<class 'pandas.core.frame.DataFrame'>\nRangeIndex: 954 entries, 0 to 953\nData columns (total 8 columns):\n #   Column                           Non-Null Count  Dtype\n---  ------                           --------------  -----\n 0   Age                              954 non-null    int64\n 1   FrequentFlyer                    954 non-null    int64\n 2   ServicesOpted                    954 non-null    int64\n 3   AccountSyncedToSocialMedia       954 non-null    int64\n 4   BookedHotelOrNot                 954 non-null    int64\n 5   Target                           954 non-null    int64\n 6   AnnualIncomeClass_Low Income     954 non-null    uint8\n 7   AnnualIncomeClass_Middle Income  954 non-null    uint8\ndtypes: int64(6), uint8(2)\nmemory usage: 46.7 KB\n",
          "output_type": "stream"
        }
      ],
      "execution_count": 36
    },
    {
      "cell_type": "code",
      "source": "#Train Test Split\n# Putting predictor variables to X\nX = df.drop(['Target'], axis=1)\n\n# Putting Target variables to y\ny = df[\"Target\"]",
      "metadata": {
        "trusted": true
      },
      "outputs": [],
      "execution_count": 38
    },
    {
      "cell_type": "code",
      "source": "# Splitting the data into train and test\nX_train, X_test, y_train, y_test = train_test_split(X, y, train_size=0.7, test_size=0.3, random_state=100)",
      "metadata": {
        "trusted": true
      },
      "outputs": [],
      "execution_count": 39
    },
    {
      "cell_type": "code",
      "source": "#shape of test and test data sets after split\nprint(X_train.shape)\nprint(X_test.shape)\nprint(y_train.shape)\nprint(y_test.shape)",
      "metadata": {
        "trusted": true
      },
      "outputs": [
        {
          "name": "stdout",
          "text": "(667, 7)\n(287, 7)\n(667,)\n(287,)\n",
          "output_type": "stream"
        }
      ],
      "execution_count": 40
    },
    {
      "cell_type": "code",
      "source": "#Feature Scaling\nscaler=StandardScaler()\n\n#creating a list of numeric variables\nnum_cols = ['Age','ServicesOpted']\n\nX_train[num_cols] = scaler.fit_transform(X_train[num_cols])\n\n# X-train dataframe after standard scaling\nX_train.head()",
      "metadata": {
        "trusted": true
      },
      "outputs": [
        {
          "execution_count": 41,
          "output_type": "execute_result",
          "data": {
            "text/plain": "          Age  FrequentFlyer  ServicesOpted  AccountSyncedToSocialMedia  \\\n105 -0.651985              1       2.202621                           0   \n953 -0.351865              1      -0.867058                           0   \n299 -0.952106              0      -0.253122                           0   \n69   0.548496              1       0.974750                           0   \n85  -1.552346              1      -0.867058                           0   \n\n     BookedHotelOrNot  AnnualIncomeClass_Low Income  \\\n105                 1                             0   \n953                 0                             0   \n299                 0                             0   \n69                  0                             0   \n85                  1                             1   \n\n     AnnualIncomeClass_Middle Income  \n105                                0  \n953                                0  \n299                                1  \n69                                 0  \n85                                 0  ",
            "text/html": "<div>\n<style scoped>\n    .dataframe tbody tr th:only-of-type {\n        vertical-align: middle;\n    }\n\n    .dataframe tbody tr th {\n        vertical-align: top;\n    }\n\n    .dataframe thead th {\n        text-align: right;\n    }\n</style>\n<table border=\"1\" class=\"dataframe\">\n  <thead>\n    <tr style=\"text-align: right;\">\n      <th></th>\n      <th>Age</th>\n      <th>FrequentFlyer</th>\n      <th>ServicesOpted</th>\n      <th>AccountSyncedToSocialMedia</th>\n      <th>BookedHotelOrNot</th>\n      <th>AnnualIncomeClass_Low Income</th>\n      <th>AnnualIncomeClass_Middle Income</th>\n    </tr>\n  </thead>\n  <tbody>\n    <tr>\n      <th>105</th>\n      <td>-0.651985</td>\n      <td>1</td>\n      <td>2.202621</td>\n      <td>0</td>\n      <td>1</td>\n      <td>0</td>\n      <td>0</td>\n    </tr>\n    <tr>\n      <th>953</th>\n      <td>-0.351865</td>\n      <td>1</td>\n      <td>-0.867058</td>\n      <td>0</td>\n      <td>0</td>\n      <td>0</td>\n      <td>0</td>\n    </tr>\n    <tr>\n      <th>299</th>\n      <td>-0.952106</td>\n      <td>0</td>\n      <td>-0.253122</td>\n      <td>0</td>\n      <td>0</td>\n      <td>0</td>\n      <td>1</td>\n    </tr>\n    <tr>\n      <th>69</th>\n      <td>0.548496</td>\n      <td>1</td>\n      <td>0.974750</td>\n      <td>0</td>\n      <td>0</td>\n      <td>0</td>\n      <td>0</td>\n    </tr>\n    <tr>\n      <th>85</th>\n      <td>-1.552346</td>\n      <td>1</td>\n      <td>-0.867058</td>\n      <td>0</td>\n      <td>1</td>\n      <td>1</td>\n      <td>0</td>\n    </tr>\n  </tbody>\n</table>\n</div>"
          },
          "metadata": {}
        }
      ],
      "execution_count": 41
    },
    {
      "cell_type": "code",
      "source": "#Checking the Churn Rate\nchurn = (sum(df['Target'])/len(df['Target'].index))*100\nchurn",
      "metadata": {
        "trusted": true
      },
      "outputs": [
        {
          "execution_count": 42,
          "output_type": "execute_result",
          "data": {
            "text/plain": "23.48008385744235"
          },
          "metadata": {}
        }
      ],
      "execution_count": 42
    },
    {
      "cell_type": "code",
      "source": "",
      "metadata": {
        "trusted": true
      },
      "outputs": [],
      "execution_count": null
    }
  ]
}